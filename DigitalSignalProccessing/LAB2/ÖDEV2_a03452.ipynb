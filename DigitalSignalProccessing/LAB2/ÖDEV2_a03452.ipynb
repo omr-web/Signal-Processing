{
 "cells": [
  {
   "cell_type": "markdown",
   "metadata": {},
   "source": [
    "# ORNEK KODLAR"
   ]
  },
  {
   "cell_type": "markdown",
   "metadata": {},
   "source": [
    "Hazır komut kullanmadan çıkış işaretini hesaplama"
   ]
  },
  {
   "cell_type": "code",
   "execution_count": 2,
   "metadata": {},
   "outputs": [
    {
     "name": "stdout",
     "output_type": "stream",
     "text": [
      "[0, 1.0, 0.5, -2.25, 1.125]\n"
     ]
    }
   ],
   "source": [
    "x=[0,1,-1,0,0]\n",
    "y=[0]\n",
    "for i in range (1,len(x)):\n",
    "    \n",
    "    y.append(-0.5*y[i-1]+x[i]+2*x[i-1])\n",
    "print(y)"
   ]
  },
  {
   "cell_type": "markdown",
   "metadata": {},
   "source": [
    "python listeleri yerine numpy kütüphanesi kullansaydık"
   ]
  },
  {
   "cell_type": "code",
   "execution_count": 2,
   "metadata": {},
   "outputs": [],
   "source": [
    "import numpy as np \n",
    "from matplotlib import pyplot as plt\n",
    "import math"
   ]
  },
  {
   "cell_type": "code",
   "execution_count": 4,
   "metadata": {},
   "outputs": [
    {
     "name": "stdout",
     "output_type": "stream",
     "text": [
      "[ 0.     1.     0.5   -2.25   1.125]\n"
     ]
    }
   ],
   "source": [
    "x=np.array([0,1,-1,0,0],dtype=float)\n",
    "y=np.array([0,0,0,0,0],dtype=float)\n",
    "for i in range (1,len(x)):\n",
    "    y[i]=-0.5 * y[i-1]+x[i]+2*x[i-1]\n",
    "print(y)\n"
   ]
  },
  {
   "cell_type": "markdown",
   "metadata": {},
   "source": [
    "Hazır komut kullanarak çıkış işaretini hesaplama"
   ]
  },
  {
   "cell_type": "code",
   "execution_count": 6,
   "metadata": {},
   "outputs": [],
   "source": [
    "from scipy import signal "
   ]
  },
  {
   "cell_type": "code",
   "execution_count": 7,
   "metadata": {},
   "outputs": [
    {
     "name": "stdout",
     "output_type": "stream",
     "text": [
      "[ 0.     1.     0.5   -2.25   1.125]\n"
     ]
    }
   ],
   "source": [
    "x=np.array([0,1,-1,0,0],dtype=float)\n",
    "b=[1,2]\n",
    "a=[1,0.5]\n",
    "y=signal.lfilter(b,a,x)\n",
    "print(y)"
   ]
  },
  {
   "cell_type": "code",
   "execution_count": 8,
   "metadata": {},
   "outputs": [],
   "source": [
    "from matplotlib import pyplot as plt"
   ]
  },
  {
   "cell_type": "code",
   "execution_count": 9,
   "metadata": {},
   "outputs": [
    {
     "name": "stderr",
     "output_type": "stream",
     "text": [
      "C:\\anaconda\\lib\\site-packages\\ipykernel_launcher.py:2: UserWarning: In Matplotlib 3.3 individual lines on a stem plot will be added as a LineCollection instead of individual lines. This significantly improves the performance of a stem plot. To remove this warning and switch to the new behaviour, set the \"use_line_collection\" keyword argument to True.\n",
      "  \n"
     ]
    },
    {
     "data": {
      "text/plain": [
       "Text(0.5, 0, 'n')"
      ]
     },
     "execution_count": 9,
     "metadata": {},
     "output_type": "execute_result"
    },
    {
     "data": {
      "image/png": "[encoded data removed]",
      "text/plain": [
       "<Figure size 432x288 with 1 Axes>"
      ]
     },
     "metadata": {
      "needs_background": "light"
     },
     "output_type": "display_data"
    }
   ],
   "source": [
    "n=np.arange(-1,4)\n",
    "plt.stem(n,y)\n",
    "plt.title('y[n]')\n",
    "plt.xlabel(\"n\")\n"
   ]
  },
  {
   "cell_type": "markdown",
   "metadata": {},
   "source": [
    "Hazır komut kullanmadan konvolusyon hesaplama"
   ]
  },
  {
   "cell_type": "code",
   "execution_count": 6,
   "metadata": {},
   "outputs": [
    {
     "name": "stdout",
     "output_type": "stream",
     "text": [
      "[ 1.  5.  5. -3.]\n"
     ]
    }
   ],
   "source": [
    "h=np.array([1,2,-1],dtype=float)\n",
    "x=np.array([1,3],dtype=float)\n",
    "M=len(h)\n",
    "N=len(x)\n",
    "L=M+N-1\n",
    "y=np.zeros([L])\n",
    "for n in range(L):\n",
    "    y[n]=0\n",
    "    for k in range(N):\n",
    "        if n-k<0 or n-k>=M:\n",
    "            h_n_k =0\n",
    "        else:\n",
    "            h_n_k= h[n-k]\n",
    "        y[n]=y[n]+x[k]*h_n_k \n",
    "print(y)"
   ]
  },
  {
   "cell_type": "markdown",
   "metadata": {},
   "source": [
    "Hazır komut kullanarak konvolusyon hesaplama"
   ]
  },
  {
   "cell_type": "code",
   "execution_count": 8,
   "metadata": {},
   "outputs": [
    {
     "name": "stdout",
     "output_type": "stream",
     "text": [
      "[ 1.  5.  5. -3.]\n",
      "[ 1.  5.  5. -3.]\n"
     ]
    }
   ],
   "source": [
    "h=np.array([1,2,-1],dtype=float)\n",
    "x=np.array([1,3],dtype=float)\n",
    "print(np.convolve(x,h))\n",
    "print(signal.convolve(x,h))\n",
    "\n",
    "\n"
   ]
  },
  {
   "cell_type": "markdown",
   "metadata": {},
   "source": [
    "İki işaretin konvolusyonunun grafiğini çizdirmek"
   ]
  },
  {
   "cell_type": "code",
   "execution_count": 9,
   "metadata": {},
   "outputs": [
    {
     "name": "stdout",
     "output_type": "stream",
     "text": [
      "[ 1  0  2 -1  3  0  6 -3]\n"
     ]
    }
   ],
   "source": [
    "x=np.array([1,0,2,-1])\n",
    "h=np.array([1,0,0,0,3])\n",
    "y=np.convolve(x,h)\n",
    "print(y)"
   ]
  },
  {
   "cell_type": "code",
   "execution_count": 12,
   "metadata": {},
   "outputs": [
    {
     "name": "stderr",
     "output_type": "stream",
     "text": [
      "C:\\anaconda\\lib\\site-packages\\ipykernel_launcher.py:2: UserWarning: In Matplotlib 3.3 individual lines on a stem plot will be added as a LineCollection instead of individual lines. This significantly improves the performance of a stem plot. To remove this warning and switch to the new behaviour, set the \"use_line_collection\" keyword argument to True.\n",
      "  \n"
     ]
    },
    {
     "data": {
      "text/plain": [
       "Text(0.5, 1.0, 'y[n]')"
      ]
     },
     "execution_count": 12,
     "metadata": {},
     "output_type": "execute_result"
    },
    {
     "data": {
      "image/png": "[encoded data removed]",
      "text/plain": [
       "<Figure size 432x288 with 1 Axes>"
      ]
     },
     "metadata": {
      "needs_background": "light"
     },
     "output_type": "display_data"
    }
   ],
   "source": [
    "n=np.arange(-3,5)\n",
    "plt.stem(n,y)\n",
    "plt.title('y[n]')\n"
   ]
  },
  {
   "cell_type": "markdown",
   "metadata": {},
   "source": [
    "# Ön Çalışma"
   ]
  },
  {
   "cell_type": "markdown",
   "metadata": {},
   "source": [
    "# SORU-1 \n",
    "# A Sıkkı"
   ]
  },
  {
   "cell_type": "markdown",
   "metadata": {},
   "source": [
    "Bir sistemin birim dürtü cevabını bulmak için girişe dirac[n] uygulamak yeterli olur.\n",
    "y[n]=dirac[n]-dirac[n-1] \n",
    "buda h[n]'in n=0 ve n=1 de 1 değerini aldığı bir fonksiyon olur."
   ]
  },
  {
   "cell_type": "markdown",
   "metadata": {},
   "source": [
    "# B Sıkkı"
   ]
  },
  {
   "cell_type": "markdown",
   "metadata": {},
   "source": [
    "LTI bir sistemin kararlı olup olmadığını anlamak için h[n] in mutlak toplamlarına bakmak yeterlidir.h[n]'lerin mutlak toplamı eğer sonlu bir değer ise sistem kararlı denebilir.Bu soruda h[n] toplam da iki değer almaktadır.Bu yüzden sistem kararlı denebilir. "
   ]
  },
  {
   "cell_type": "markdown",
   "metadata": {},
   "source": [
    "# C Sıkkı"
   ]
  },
  {
   "cell_type": "code",
   "execution_count": 3,
   "metadata": {},
   "outputs": [
    {
     "name": "stdout",
     "output_type": "stream",
     "text": [
      "[ 0  1  2  3  4  5  6  7  8  9 10 11 12 13 14 15 16 17 18 19 20 21 22 23]\n"
     ]
    }
   ],
   "source": [
    "n=np.arange(0,24) # n=24 de sin(2*2pi) olur buda 2 periyot demektir.\n",
    "#x=np.zeros(len(n))\n",
    "x=np.sin(np.pi*n/6)\n",
    "print(n)"
   ]
  },
  {
   "cell_type": "code",
   "execution_count": 4,
   "metadata": {},
   "outputs": [
    {
     "name": "stderr",
     "output_type": "stream",
     "text": [
      "C:\\anaconda\\lib\\site-packages\\ipykernel_launcher.py:1: UserWarning: In Matplotlib 3.3 individual lines on a stem plot will be added as a LineCollection instead of individual lines. This significantly improves the performance of a stem plot. To remove this warning and switch to the new behaviour, set the \"use_line_collection\" keyword argument to True.\n",
      "  \"\"\"Entry point for launching an IPython kernel.\n"
     ]
    },
    {
     "data": {
      "image/png": "[encoded data removed]",
      "text/plain": [
       "<Figure size 432x288 with 1 Axes>"
      ]
     },
     "metadata": {
      "needs_background": "light"
     },
     "output_type": "display_data"
    }
   ],
   "source": [
    "plt.stem(n,x)\n",
    "plt.title(\"x[n]=sin(pi*n/6)\")\n",
    "plt.xlabel(\"n\")\n",
    "plt.ylabel(\"x[n]\")\n",
    "plt.show()"
   ]
  },
  {
   "cell_type": "code",
   "execution_count": 7,
   "metadata": {},
   "outputs": [
    {
     "name": "stdout",
     "output_type": "stream",
     "text": [
      "[ 0.         0.5        0.3660254  0.1339746 -0.1339746 -0.3660254\n",
      " -0.5       -0.5       -0.3660254 -0.1339746  0.1339746  0.3660254\n",
      "  0.5        0.5        0.3660254  0.1339746 -0.1339746 -0.3660254\n",
      " -0.5       -0.5       -0.3660254 -0.1339746  0.1339746  0.3660254\n",
      "  0.5      ]\n",
      "25\n"
     ]
    }
   ],
   "source": [
    "h=np.array([1,-1],dtype=float)# h[n]=0 h[n-1]=-1\n",
    "y=signal.convolve(x,h) # y[n]=x[n]*h[n]\n",
    "print(y)# elde eidlen sonuçlar kontrol amaçlı bastırılmıştır.\n",
    "print(len(y)) # h[n] 2 elemanlı x[n] ise 24  y[n] ise 24+2-1=25 olmalı "
   ]
  },
  {
   "cell_type": "code",
   "execution_count": 9,
   "metadata": {},
   "outputs": [
    {
     "name": "stderr",
     "output_type": "stream",
     "text": [
      "C:\\anaconda\\lib\\site-packages\\ipykernel_launcher.py:7: UserWarning: In Matplotlib 3.3 individual lines on a stem plot will be added as a LineCollection instead of individual lines. This significantly improves the performance of a stem plot. To remove this warning and switch to the new behaviour, set the \"use_line_collection\" keyword argument to True.\n",
      "  import sys\n"
     ]
    },
    {
     "data": {
      "image/png": "[encoded data removed]",
      "text/plain": [
       "<Figure size 432x288 with 1 Axes>"
      ]
     },
     "metadata": {
      "needs_background": "light"
     },
     "output_type": "display_data"
    }
   ],
   "source": [
    "n=np.arange(0,25)\n",
    "# konvolusyon sonucunda,çizdirme işlemi yapılırken indis aralığını belirlemek\n",
    "#için x[n] ve h[n] in başlangı. ve bitiş noktalarının ayrı ayrı konvolusyonlar-\n",
    "#ını aldık. başlangıç için x[n] 1 de h[n] sıfır da,bitiş için biri 24 biri 1 de\n",
    "# sıfırdan farklı değer almış.Bu bilgilerin konvolusyonu alınıdığında n aralığı\n",
    "#bulunmuş oldu\n",
    "plt.stem(n,y)\n",
    "plt.xlabel(\"n\")\n",
    "plt.ylabel(\"x[n]\")\n",
    "plt.title(\"x[n]*h[n]\")\n",
    "plt.show()\n",
    "\n",
    "#x ve h ın başladıkları indisler n=0 "
   ]
  },
  {
   "cell_type": "code",
   "execution_count": 10,
   "metadata": {},
   "outputs": [
    {
     "name": "stdout",
     "output_type": "stream",
     "text": [
      "24\n"
     ]
    }
   ],
   "source": [
    "#### lfilter kullanımı\n",
    "a=[1,-1] # giriş işaretinin katsayıları\n",
    "b=[1] #çıkış işaretinin katsayıları\n",
    "# x ise girişe uygulanan sinyal,yukarıda zaten elde edilmiştir.\n",
    "z=signal.lfilter(a,b,x)\n",
    "print(len(z))"
   ]
  },
  {
   "cell_type": "code",
   "execution_count": 13,
   "metadata": {},
   "outputs": [
    {
     "name": "stderr",
     "output_type": "stream",
     "text": [
      "C:\\anaconda\\lib\\site-packages\\ipykernel_launcher.py:3: UserWarning: In Matplotlib 3.3 individual lines on a stem plot will be added as a LineCollection instead of individual lines. This significantly improves the performance of a stem plot. To remove this warning and switch to the new behaviour, set the \"use_line_collection\" keyword argument to True.\n",
      "  This is separate from the ipykernel package so we can avoid doing imports until\n"
     ]
    },
    {
     "data": {
      "image/png": "[encoded data removed]",
      "text/plain": [
       "<Figure size 432x288 with 1 Axes>"
      ]
     },
     "metadata": {
      "needs_background": "light"
     },
     "output_type": "display_data"
    }
   ],
   "source": [
    "n=np.arange(1,25)\n",
    "\n",
    "plt.stem(n,z)\n",
    "plt.xlabel(\"n\")\n",
    "plt.ylabel(\"x[n]\")\n",
    "plt.title(\"x[n]*h[n] with lfilter\")\n",
    "plt.show()\n",
    "# hem lfilter ile hemde convolve fonksiyonları ile aynı grafik elde edilmiştir.Fakat lfilter fonksiyonu sonucu elde edilen \n",
    "# fonksiyonun eleman sayısı 1 eksik gelmiştir."
   ]
  },
  {
   "cell_type": "markdown",
   "metadata": {},
   "source": [
    "# SORU-2\n",
    "# A Sıkkı"
   ]
  },
  {
   "cell_type": "code",
   "execution_count": 646,
   "metadata": {},
   "outputs": [],
   "source": [
    "# 1. Sistem\n",
    "x= []  ## y[n]= 0.5* y[n-1]+x[n]\n",
    "x.append(1) #h[0] ı yazmak için x[0] ın değeri gerek \n",
    "for i in range (1,100):\n",
    "     x.append(0)\n",
    "h = [] # sistemin birim dürtü cevabı (100 elemanlı)\n",
    "\n",
    "for i in range(100):\n",
    "    h.append(1)\n",
    "# yukarıda yapılan işlemler sadece h[0] ve x[0] başlangıç koşullarını belirlemek için yapılmıştır\n",
    "for i in range (1,len(h)):\n",
    "    h[i]=0.5*h[i-1]+x[i] # soruda çıkışın girişe göre nasıl üretildiği verilmiştir.x[n]=dirac[n] olduğu zaman ,y[n]=h[n] olur.\n",
    "\n"
   ]
  },
  {
   "cell_type": "code",
   "execution_count": 647,
   "metadata": {},
   "outputs": [
    {
     "name": "stderr",
     "output_type": "stream",
     "text": [
      "C:\\anaconda\\lib\\site-packages\\ipykernel_launcher.py:2: UserWarning: In Matplotlib 3.3 individual lines on a stem plot will be added as a LineCollection instead of individual lines. This significantly improves the performance of a stem plot. To remove this warning and switch to the new behaviour, set the \"use_line_collection\" keyword argument to True.\n",
      "  \n"
     ]
    },
    {
     "data": {
      "image/png": "[encoded data removed]",
      "text/plain": [
       "<Figure size 432x288 with 1 Axes>"
      ]
     },
     "metadata": {
      "needs_background": "light"
     },
     "output_type": "display_data"
    }
   ],
   "source": [
    "n=np.arange(0,100,1)# h[n] ,sıfırdan başlayıp 99 a kadar(99 dahil) olmak üzere 100 elemanlı olacak şekilde çizdirilmiştir.\n",
    "plt.stem(n,h)\n",
    "plt.xlabel(\"n\")\n",
    "plt.ylabel(\"h[n]\")\n",
    "plt.title(\"h[n]=1/2*h[n-1]+dirac[n]\")\n",
    "plt.show()\n",
    "#grafikte jupyter n=100'ü de göstermektedir fakat h[100] 'De bir değer yoktur. n değerleri 20'şer arttığı için yazmaktadır!!"
   ]
  },
  {
   "cell_type": "code",
   "execution_count": 648,
   "metadata": {},
   "outputs": [],
   "source": [
    "#2. Sistem  # y[n]=2*y[n-1]+x[n]\n",
    "x= []\n",
    "x.append(1) #h[0] ı yazmak için x[0] ın değeri gerek \n",
    "for i in range (1,100): # 100 dahil değil\n",
    "     x.append(0)\n",
    "h = [] # sistemin birim dürtü cevabı (100 elemanlı)\n",
    "for i in range(100):\n",
    "    h.append(1)\n",
    "# yukarıda yapılan işlemler sadece h[0] ve x[0] başlangıç koşullarını belirlemek için yapılmıştır\n",
    "for i in range (1,len(h)):\n",
    "    h[i]=2*h[i-1]+x[i]# soruda çıkışın girişe göre nasıl üretildiği verilmiştir.x[n]=dirac[n] olduğu zaman ,y[n]=h[n] olur.\n"
   ]
  },
  {
   "cell_type": "code",
   "execution_count": 649,
   "metadata": {},
   "outputs": [
    {
     "name": "stderr",
     "output_type": "stream",
     "text": [
      "C:\\anaconda\\lib\\site-packages\\ipykernel_launcher.py:2: UserWarning: In Matplotlib 3.3 individual lines on a stem plot will be added as a LineCollection instead of individual lines. This significantly improves the performance of a stem plot. To remove this warning and switch to the new behaviour, set the \"use_line_collection\" keyword argument to True.\n",
      "  \n"
     ]
    },
    {
     "data": {
      "image/png": "[encoded data removed]",
      "text/plain": [
       "<Figure size 432x288 with 1 Axes>"
      ]
     },
     "metadata": {
      "needs_background": "light"
     },
     "output_type": "display_data"
    },
    {
     "name": "stdout",
     "output_type": "stream",
     "text": [
      "8\n"
     ]
    }
   ],
   "source": [
    "n=np.arange(0,100,1)\n",
    "plt.stem(n,h)\n",
    "plt.xlabel(\"n\")\n",
    "plt.ylabel(\"h[n]\")\n",
    "plt.title(\"h[n]=1/2*h[n-1]+dirac[n]\")\n",
    "plt.show()\n",
    "print(h[3])\n",
    "#grafikte jupyter n=100'ü de göstermektedir fakat h[100] 'De bir değer yoktur. n değerleri 20'şer arttığı için yazmaktadır!!"
   ]
  },
  {
   "cell_type": "markdown",
   "metadata": {},
   "source": [
    "# B Sıkkı"
   ]
  },
  {
   "cell_type": "markdown",
   "metadata": {},
   "source": [
    "Sabit kat sayılı fark denklemleri ,LTI sistem oldukları için kararlılıkları hakkında yorum yapabiliriz.LTI sistemin kararlı olabilmesi için h[n] toplamlarının mutlak değeri bir sayıya yakınsaması gerekir.(Sonlu olmalıdır).\n",
    "bu bilgi baz alınırsa \n",
    "1. Sistem kararlı\n",
    "2.Sistem kararsız olduğu çizdirilen grafikler yardımım ile gözlemlenmiştir."
   ]
  },
  {
   "cell_type": "markdown",
   "metadata": {},
   "source": [
    "# C Sıkkı"
   ]
  },
  {
   "cell_type": "markdown",
   "metadata": {},
   "source": [
    "Sabit kat sayılı fark denklemleri ,LTI sistem oldukları için nedensellikleri hakkında yorum yapabiliriz.LTI sistemin nedensel olabilmesi için n<0 koşulu altında h[n]=0 olmalıdır.\n",
    "Her iki sistem için çizilen grafiklere bakılırsa bu koşula uyulduğu gözlemlenmiştir.\n",
    "iki sistemde de nedenseldir."
   ]
  },
  {
   "cell_type": "markdown",
   "metadata": {},
   "source": [
    "# SORU 3\n"
   ]
  },
  {
   "cell_type": "markdown",
   "metadata": {},
   "source": [
    "# 1. SİSTEM A Sıkkı"
   ]
  },
  {
   "cell_type": "code",
   "execution_count": 658,
   "metadata": {},
   "outputs": [],
   "source": [
    "# 1. SİSTEM İLE İLGİLİ GRAFİKLER\n",
    "h1=np.array([0.33,0.33,0.33],dtype=float) # arrayin ilk elemanı h[-1] dir.yani arrayda 0 ,aslında indisde -1'e karşılık gelmekte\n",
    "n=np.arange(-1,51,1)\n",
    "u=np.zeros(len(n))\n",
    "######A Sıkkı\n",
    "x1=np.zeros(len(n))\n",
    "result=0\n",
    "#u[n]\n",
    "for k in range(len(n)):\n",
    "    result=(1 if n[k]>=0 else 0)\n",
    "    u[k]=result\n",
    "#u[n-20]    \n",
    "u_new=np.zeros(len(n))\n",
    "for k in range (len(n)):\n",
    "        if((n[k]+20)>50):#arrayin eleman sayısını aşacak değerler verilmemesi için kontrol amaçlı...\n",
    "            u_new[50]=1\n",
    "            break\n",
    "        u_new[k+20]=u[k]"
   ]
  },
  {
   "cell_type": "code",
   "execution_count": 659,
   "metadata": {},
   "outputs": [
    {
     "name": "stderr",
     "output_type": "stream",
     "text": [
      "C:\\anaconda\\lib\\site-packages\\ipykernel_launcher.py:1: UserWarning: In Matplotlib 3.3 individual lines on a stem plot will be added as a LineCollection instead of individual lines. This significantly improves the performance of a stem plot. To remove this warning and switch to the new behaviour, set the \"use_line_collection\" keyword argument to True.\n",
      "  \"\"\"Entry point for launching an IPython kernel.\n"
     ]
    },
    {
     "data": {
      "image/png": "[encoded data removed]",
      "text/plain": [
       "<Figure size 432x288 with 1 Axes>"
      ]
     },
     "metadata": {
      "needs_background": "light"
     },
     "output_type": "display_data"
    }
   ],
   "source": [
    "plt.stem(n,u_new)\n",
    "plt.title(\"u[n-20]\")\n",
    "plt.xlabel(\"n\")\n",
    "plt.ylabel(\"u[n-20]\")\n",
    "plt.show()\n"
   ]
  },
  {
   "cell_type": "code",
   "execution_count": 660,
   "metadata": {},
   "outputs": [
    {
     "name": "stdout",
     "output_type": "stream",
     "text": [
      "52\n",
      "52\n"
     ]
    }
   ],
   "source": [
    "for k in range (len(n)):\n",
    "    x1[k]=np.cos((np.pi*n[k])/5)*(u[k]-u_new[k])\n",
    "u_new[21]\n",
    "print(len(x1))\n",
    "print(len(u_new))"
   ]
  },
  {
   "cell_type": "code",
   "execution_count": 661,
   "metadata": {},
   "outputs": [
    {
     "name": "stderr",
     "output_type": "stream",
     "text": [
      "C:\\anaconda\\lib\\site-packages\\ipykernel_launcher.py:1: UserWarning: In Matplotlib 3.3 individual lines on a stem plot will be added as a LineCollection instead of individual lines. This significantly improves the performance of a stem plot. To remove this warning and switch to the new behaviour, set the \"use_line_collection\" keyword argument to True.\n",
      "  \"\"\"Entry point for launching an IPython kernel.\n"
     ]
    },
    {
     "data": {
      "image/png": "[encoded data removed]",
      "text/plain": [
       "<Figure size 432x288 with 1 Axes>"
      ]
     },
     "metadata": {
      "needs_background": "light"
     },
     "output_type": "display_data"
    }
   ],
   "source": [
    "plt.stem(n,x1)\n",
    "plt.xticks(np.arange(n[0],n[-1],5))\n",
    "plt.xlabel(\"n\")\n",
    "plt.ylabel(\"x1[n]\")\n",
    "plt.title(\"x1[n]=cos(pi/5*n)*(u[n]-u[n-20])\")\n",
    "plt.show()"
   ]
  },
  {
   "cell_type": "code",
   "execution_count": 662,
   "metadata": {},
   "outputs": [
    {
     "name": "stdout",
     "output_type": "stream",
     "text": [
      "54\n"
     ]
    }
   ],
   "source": [
    "\n",
    "y11=signal.convolve(x1,h1)\n",
    "print(len(y11))# x11 toplam 52 ,h1 ise 3 elemanları konvolusyon ise toplam 55-1 54 elemanlı olmalıdır"
   ]
  },
  {
   "cell_type": "code",
   "execution_count": 663,
   "metadata": {},
   "outputs": [
    {
     "name": "stderr",
     "output_type": "stream",
     "text": [
      "C:\\anaconda\\lib\\site-packages\\ipykernel_launcher.py:4: UserWarning: In Matplotlib 3.3 individual lines on a stem plot will be added as a LineCollection instead of individual lines. This significantly improves the performance of a stem plot. To remove this warning and switch to the new behaviour, set the \"use_line_collection\" keyword argument to True.\n",
      "  after removing the cwd from sys.path.\n"
     ]
    },
    {
     "data": {
      "image/png": "[encoded data removed]",
      "text/plain": [
       "<Figure size 432x288 with 1 Axes>"
      ]
     },
     "metadata": {
      "needs_background": "light"
     },
     "output_type": "display_data"
    }
   ],
   "source": [
    "m=np.arange(-2,52,1)\n",
    "# x1 1 den başlıyor ,h ise -1 den ayrı ayrı konvolusyonlarından 0 gelir\n",
    "# yani y[n]=x[n]*h[n] in başlangıç noktası 0 dir\n",
    "plt.stem(m,y11)\n",
    "#plt.xticks(np.arange(n[0],n[-1],1))\n",
    "plt.xlabel(\"n\")\n",
    "plt.ylabel(\"y[n]\")\n",
    "plt.title(\"y11[n]=x1[n]*h1[n]\")\n",
    "plt.show()\n",
    "# çizdirilecek aralık -2 den başlamıştır çünkü x[n] -1 den h[n] ise gene -1 de ilk değer ataması yapılmıştır bu yüzden -1+-1 =-2\n",
    "# dirac[n+1]*dirac[n+1]=dirac[n+2] (alt indisin belirlenmesi)\n",
    "## Aşağıdaki grafik -2 den başlıyor ilk eleman y[-2]=0 oluyor !!!"
   ]
  },
  {
   "cell_type": "markdown",
   "metadata": {},
   "source": [
    "# 1. Sistem B Sıkkı"
   ]
  },
  {
   "cell_type": "code",
   "execution_count": 664,
   "metadata": {},
   "outputs": [
    {
     "name": "stderr",
     "output_type": "stream",
     "text": [
      "C:\\anaconda\\lib\\site-packages\\ipykernel_launcher.py:9: UserWarning: In Matplotlib 3.3 individual lines on a stem plot will be added as a LineCollection instead of individual lines. This significantly improves the performance of a stem plot. To remove this warning and switch to the new behaviour, set the \"use_line_collection\" keyword argument to True.\n",
      "  if __name__ == '__main__':\n"
     ]
    },
    {
     "data": {
      "image/png": "[encoded data removed]",
      "text/plain": [
       "<Figure size 432x288 with 1 Axes>"
      ]
     },
     "metadata": {
      "needs_background": "light"
     },
     "output_type": "display_data"
    }
   ],
   "source": [
    "\n",
    "m=np.arange(-1,20,1)\n",
    "#u[n-5]    \n",
    "u_new2=np.zeros(len(m))\n",
    "for k in range (len(m)):\n",
    "        if((m[k]+5)>19):\n",
    "            u_new2[20]=1\n",
    "            break\n",
    "        u_new2[k+5]=u[k]\n",
    "plt.stem(m,u_new2)\n",
    "plt.xlabel(\"n\")\n",
    "plt.ylabel(\"u[n-5]\")\n",
    "plt.title(\"u[n-5]\")\n",
    "plt.show()\n"
   ]
  },
  {
   "cell_type": "code",
   "execution_count": 665,
   "metadata": {},
   "outputs": [],
   "source": [
    "x2=np.zeros(len(m))\n",
    "for k in range (len(m)):\n",
    "    x2[k]=(math.pow(-0.3,m[k]))*(u[k]-u_new2[k])"
   ]
  },
  {
   "cell_type": "code",
   "execution_count": 666,
   "metadata": {},
   "outputs": [
    {
     "name": "stderr",
     "output_type": "stream",
     "text": [
      "C:\\anaconda\\lib\\site-packages\\ipykernel_launcher.py:1: UserWarning: In Matplotlib 3.3 individual lines on a stem plot will be added as a LineCollection instead of individual lines. This significantly improves the performance of a stem plot. To remove this warning and switch to the new behaviour, set the \"use_line_collection\" keyword argument to True.\n",
      "  \"\"\"Entry point for launching an IPython kernel.\n"
     ]
    },
    {
     "data": {
      "image/png": "[encoded data removed]",
      "text/plain": [
       "<Figure size 432x288 with 1 Axes>"
      ]
     },
     "metadata": {
      "needs_background": "light"
     },
     "output_type": "display_data"
    },
    {
     "name": "stdout",
     "output_type": "stream",
     "text": [
      "[-0.      1.     -0.3     0.09   -0.027   0.0081 -0.      0.     -0.\n",
      "  0.     -0.      0.     -0.      0.     -0.      0.     -0.      0.\n",
      " -0.      0.     -0.    ]\n"
     ]
    }
   ],
   "source": [
    "\n",
    "plt.stem(m,x2)\n",
    "\n",
    "plt.xlabel(\"n\")\n",
    "plt.ylabel(\"x2[n]\")\n",
    "plt.title(\"x2[n]=(-0.3)^n (u[n]-n[n-5])\")\n",
    "plt.show()\n",
    "print(x2)"
   ]
  },
  {
   "cell_type": "code",
   "execution_count": 667,
   "metadata": {},
   "outputs": [
    {
     "name": "stdout",
     "output_type": "stream",
     "text": [
      "23\n",
      "[ 0.        0.33      0.231     0.2607   -0.07821   0.023463 -0.006237\n",
      "  0.002673  0.        0.        0.        0.        0.        0.\n",
      "  0.        0.        0.        0.        0.        0.        0.\n",
      "  0.        0.      ]\n"
     ]
    },
    {
     "name": "stderr",
     "output_type": "stream",
     "text": [
      "C:\\anaconda\\lib\\site-packages\\ipykernel_launcher.py:4: UserWarning: In Matplotlib 3.3 individual lines on a stem plot will be added as a LineCollection instead of individual lines. This significantly improves the performance of a stem plot. To remove this warning and switch to the new behaviour, set the \"use_line_collection\" keyword argument to True.\n",
      "  after removing the cwd from sys.path.\n"
     ]
    },
    {
     "data": {
      "image/png": "[encoded data removed]",
      "text/plain": [
       "<Figure size 432x288 with 1 Axes>"
      ]
     },
     "metadata": {
      "needs_background": "light"
     },
     "output_type": "display_data"
    }
   ],
   "source": [
    "y12=signal.convolve(x2,h1)\n",
    "k=np.arange(-2,21,1)\n",
    "print(len(k))\n",
    "plt.stem(k,y12)\n",
    "print(y12)\n",
    "plt.xlabel(\"n\")\n",
    "plt.ylabel(\"y12[n]\")\n",
    "plt.title(\"y12[n]=x2[n]*h1[n]\")\n",
    "plt.show()"
   ]
  },
  {
   "cell_type": "markdown",
   "metadata": {},
   "source": [
    "# 2. SİSTEM A Sıkkı"
   ]
  },
  {
   "cell_type": "code",
   "execution_count": 670,
   "metadata": {},
   "outputs": [
    {
     "name": "stdout",
     "output_type": "stream",
     "text": [
      "56\n"
     ]
    }
   ],
   "source": [
    "h2=np.array([0,1,0,0,-1]) # h[-1]=0  h[0]=1 h[1] ve h[2]=0 h[3]=-1\n",
    "y21=np.convolve(x1,h2)\n",
    "print(len(y21))\n",
    "# x1 52 elemanlı h2 ise 6 elemanlı konvolusyonun ise 52+6-1=56 elemalı olması gerekir"
   ]
  },
  {
   "cell_type": "code",
   "execution_count": 674,
   "metadata": {},
   "outputs": [
    {
     "name": "stderr",
     "output_type": "stream",
     "text": [
      "C:\\anaconda\\lib\\site-packages\\ipykernel_launcher.py:2: UserWarning: In Matplotlib 3.3 individual lines on a stem plot will be added as a LineCollection instead of individual lines. This significantly improves the performance of a stem plot. To remove this warning and switch to the new behaviour, set the \"use_line_collection\" keyword argument to True.\n",
      "  \n"
     ]
    },
    {
     "data": {
      "image/png": "[encoded data removed]",
      "text/plain": [
       "<Figure size 432x288 with 1 Axes>"
      ]
     },
     "metadata": {
      "needs_background": "light"
     },
     "output_type": "display_data"
    },
    {
     "name": "stdout",
     "output_type": "stream",
     "text": [
      "1.0\n"
     ]
    }
   ],
   "source": [
    "m=np.arange(-2,54,1)\n",
    "plt.stem(m,y21)\n",
    "plt.xticks(np.arange(n[0],n[-1],5))\n",
    "plt.xlabel(\"m\")\n",
    "plt.ylabel(\"y21[n]\")\n",
    "plt.title(\"y21=x1[n]*h2[n]\")\n",
    "plt.show()\n",
    "print(y21[2])\n",
    "# grafik -2 den başlamaktadır."
   ]
  },
  {
   "cell_type": "markdown",
   "metadata": {},
   "source": [
    "# 2. SİSTEM B Sıkkı"
   ]
  },
  {
   "cell_type": "code",
   "execution_count": 675,
   "metadata": {},
   "outputs": [
    {
     "name": "stdout",
     "output_type": "stream",
     "text": [
      "25\n",
      "21\n",
      "5\n"
     ]
    }
   ],
   "source": [
    "######B Sıkkı\n",
    "y22=signal.convolve(x2,h2)\n",
    "print(len(y22))\n",
    "print(len(x2))\n",
    "print(len(h2))"
   ]
  },
  {
   "cell_type": "code",
   "execution_count": 639,
   "metadata": {},
   "outputs": [
    {
     "name": "stdout",
     "output_type": "stream",
     "text": [
      "[ 0.      0.      1.     -0.3     0.09   -1.027   0.3081 -0.09    0.027\n",
      " -0.0081  0.      0.      0.      0.      0.      0.      0.      0.\n",
      "  0.      0.      0.      0.      0.      0.      0.    ]\n"
     ]
    },
    {
     "name": "stderr",
     "output_type": "stream",
     "text": [
      "C:\\anaconda\\lib\\site-packages\\ipykernel_launcher.py:2: UserWarning: In Matplotlib 3.3 individual lines on a stem plot will be added as a LineCollection instead of individual lines. This significantly improves the performance of a stem plot. To remove this warning and switch to the new behaviour, set the \"use_line_collection\" keyword argument to True.\n",
      "  \n"
     ]
    },
    {
     "data": {
      "image/png": "[encoded data removed]",
      "text/plain": [
       "<Figure size 432x288 with 1 Axes>"
      ]
     },
     "metadata": {
      "needs_background": "light"
     },
     "output_type": "display_data"
    }
   ],
   "source": [
    "l=np.arange(-2,23,1)\n",
    "plt.stem(l,y22)\n",
    "plt.xlabel(\"l\")\n",
    "plt.ylabel(\"y22[n]\")\n",
    "print(y22)\n",
    "plt.title(\"y22=x2[n]*h2[n]\")\n",
    "plt.show()"
   ]
  },
  {
   "cell_type": "markdown",
   "metadata": {},
   "source": [
    "Not: Konvolusyon sonucunun hangi indisten başlayıp hangisinde biteceği xn ve hn sinyallerine bağlıdır.Örnek vermek gerekirse xn sinyali x[n+1] de ilk değerini almakta hn ise h[n] de ilk değerini almakta olsun.Konvolusyon sonucu ise ilk değerini dirac[n+1]*dirac[n] bu işlemin sonucu olan dirac[n+1] de almalıdır.3.Soru için çizilen bütün hn ve xn ler -1 den başladıkları için her konvolusyon sonucu dirac[n+1]*dirac[n+1]=dirac[n+2] yani n=-2 den çizdirilmeye başlanmıştır.Koncolusyonların bitiş indisleri de aynı yöntem ile bulunabilir.Fakat soruda oluşturulan l,n,m arraylarının boyutları 50 veya 20 gibi değerli oldukları için mecburen x ekseninin bitiş indisi büyük olmuştur.Fakat bu konvolusyonun sonucunu etkilememiştir. n l m arraylarının yüksek elemanlı oluşturulmasının sebebi ise şöyle açıklanabilir : u[n-20] fonksiyonun 20 den sonra başladığını,20 den sonra hep 1 aldığını göstermek için n=50'ye kadar x eksenin de çizdirilmişir. "
   ]
  },
  {
   "cell_type": "code",
   "execution_count": null,
   "metadata": {},
   "outputs": [],
   "source": []
  },
  {
   "cell_type": "code",
   "execution_count": null,
   "metadata": {},
   "outputs": [],
   "source": []
  },
  {
   "cell_type": "code",
   "execution_count": null,
   "metadata": {},
   "outputs": [],
   "source": []
  }
 ],
 "metadata": {
  "kernelspec": {
   "display_name": "Python 3 (ipykernel)",
   "language": "python",
   "name": "python3"
  },
  "language_info": {
   "codemirror_mode": {
    "name": "ipython",
    "version": 3
   },
   "file_extension": ".py",
   "mimetype": "text/x-python",
   "name": "python",
   "nbconvert_exporter": "python",
   "pygments_lexer": "ipython3",
   "version": "3.9.12"
  }
 },
 "nbformat": 4,
 "nbformat_minor": 2
}
