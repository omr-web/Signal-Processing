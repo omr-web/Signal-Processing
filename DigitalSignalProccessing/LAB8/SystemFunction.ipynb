{
 "cells": [
  {
   "cell_type": "code",
   "execution_count": 2,
   "metadata": {},
   "outputs": [],
   "source": [
    "import numpy as np # for using basic array functions\n",
    "import matplotlib.pyplot as plt # for this example, it may not be necessary\n",
    "# the main package for signal processing is called \"scipy\" and we will use␣\n",
    "# ,→\"signal\" sub-package\n",
    "import scipy.signal as sgnl\n",
    "from scipy.fftpack import fft, ifft\n",
    "# alternative syntax: from scipy import signal as sgnl\n",
    "%matplotlib notebook\n"
   ]
  },
  {
   "cell_type": "code",
   "execution_count": 4,
   "metadata": {},
   "outputs": [],
   "source": [
    "def SystemFunction(w):\n",
    "    kk=[1,2,3,4]\n",
    "    ck=0.95*np.exp(1j*(0.15*np.pi+0.02*np.pi*kk))\n",
    "    zl=np.exp(-1j*w)\n",
    "    zs=np.array([0.98*np.exp(1j*0.8*np.pi),0.98*np.exp(-1j*0.8*np.pi)])\n",
    "    ps=np.array([0.8*np.exp(1j*0.4*np.pi),0.8*np.exp(-1j*0.4*np.pi)])\n",
    "    Hw=(1-zs(0)*z1) *(1-zs(1)*z1) / ((1-ps(0)-z1)*(1-ps(1)*z1))\n",
    "    \n",
    "    for k in range(len(kk)):\n",
    "        dummy=((ck[k]).conj()-zl) *(ck[k]-zl) / (1-ck[k]*z1) * (1-((ck[k]).conj()*zl))\n",
    "        Hw=Hw*math.pow(dummy,2)\n",
    "    K=1    \n",
    "    polezz=[ck,ck,ck.conj(),ck.conj()]\n",
    "    zerozz= 1/polezz\n",
    "\n",
    "    polezz=[(polezz,ps.transpose())]\n",
    "    zerozz=[zerozz,zs.transpose()]\n",
    "    Hw=Hw/3\n",
    "    return Hw,polezz,zerozz,K"
   ]
  },
  {
   "cell_type": "code",
   "execution_count": 3,
   "metadata": {},
   "outputs": [
    {
     "name": "stdout",
     "output_type": "stream",
     "text": [
      "[ 1  2 99]\n"
     ]
    }
   ],
   "source": []
  },
  {
   "cell_type": "code",
   "execution_count": null,
   "metadata": {},
   "outputs": [],
   "source": []
  }
 ],
 "metadata": {
  "kernelspec": {
   "display_name": "Python 3",
   "language": "python",
   "name": "python3"
  },
  "language_info": {
   "codemirror_mode": {
    "name": "ipython",
    "version": 3
   },
   "file_extension": ".py",
   "mimetype": "text/x-python",
   "name": "python",
   "nbconvert_exporter": "python",
   "pygments_lexer": "ipython3",
   "version": "3.7.4"
  }
 },
 "nbformat": 4,
 "nbformat_minor": 2
}
